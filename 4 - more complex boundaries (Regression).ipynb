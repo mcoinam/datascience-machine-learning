{
 "cells": [
  {
   "cell_type": "markdown",
   "metadata": {},
   "source": [
    "### More complex boundaries\n",
    "__Lets try adding one more feature _age_age (age^2)_ and see how the alg1 (the boston dataset we discussed earlier) is performing__ "
   ]
  },
  {
   "cell_type": "code",
   "execution_count": 2,
   "metadata": {},
   "outputs": [],
   "source": [
    "from sklearn import datasets\n",
    "boston = datasets.load_boston()"
   ]
  },
  {
   "cell_type": "code",
   "execution_count": 15,
   "metadata": {
    "scrolled": true
   },
   "outputs": [
    {
     "data": {
      "text/plain": [
       "(506, 14)"
      ]
     },
     "execution_count": 15,
     "metadata": {},
     "output_type": "execute_result"
    }
   ],
   "source": [
    "X = boston.data\n",
    "Y = boston.target\n",
    "import pandas as pd\n",
    "df = pd.DataFrame(X)\n",
    "df.columns = boston.feature_names\n",
    "df['age_age'] = (df.AGE) ** 2\n",
    "X2 = df.values\n",
    "X2.shape"
   ]
  },
  {
   "cell_type": "code",
   "execution_count": 17,
   "metadata": {},
   "outputs": [],
   "source": [
    "from sklearn import model_selection\n",
    "X_train, X_test, Y_train, Y_test = model_selection.train_test_split(X,Y,random_state = 0)\n",
    "X2_train, X2_test, Y2_train, Y2_test = model_selection.train_test_split(X2,Y,random_state = 0)"
   ]
  },
  {
   "cell_type": "code",
   "execution_count": 18,
   "metadata": {},
   "outputs": [],
   "source": [
    "from sklearn.linear_model import LinearRegression\n",
    "alg1 = LinearRegression() # an object of linear regression class\n",
    "alg2 = LinearRegression()"
   ]
  },
  {
   "cell_type": "code",
   "execution_count": 19,
   "metadata": {},
   "outputs": [
    {
     "data": {
      "text/plain": [
       "LinearRegression(copy_X=True, fit_intercept=True, n_jobs=None, normalize=False)"
      ]
     },
     "execution_count": 19,
     "metadata": {},
     "output_type": "execute_result"
    }
   ],
   "source": [
    "alg1.fit(X_train,Y_train)\n",
    "alg2.fit(X2_train,Y2_train)"
   ]
  },
  {
   "cell_type": "code",
   "execution_count": 20,
   "metadata": {},
   "outputs": [
    {
     "name": "stdout",
     "output_type": "stream",
     "text": [
      "alg1 Train Score:  0.7697699488741149\n",
      "alg1Test Score:  0.6354638433202145\n"
     ]
    }
   ],
   "source": [
    "train_score = alg1.score(X_train, Y_train)\n",
    "test_score = alg1.score(X_test, Y_test)\n",
    "print('alg1 Train Score: ',train_score)\n",
    "print('alg1Test Score: ',test_score)"
   ]
  },
  {
   "cell_type": "code",
   "execution_count": 22,
   "metadata": {
    "scrolled": true
   },
   "outputs": [
    {
     "name": "stdout",
     "output_type": "stream",
     "text": [
      "alg2 Train Score:  0.770724544991109\n",
      "alg2 Test Score:  0.6433109272343003\n"
     ]
    }
   ],
   "source": [
    "train_score_2 = alg2.score(X2_train, Y2_train)\n",
    "test_score_2 = alg2.score(X2_test, Y2_test)\n",
    "print('alg2 Train Score: ',train_score_2)\n",
    "print('alg2 Test Score: ',test_score_2)"
   ]
  },
  {
   "cell_type": "markdown",
   "metadata": {},
   "source": [
    "__Does our algorithm become better or worse?__ <br>\n",
    "* We see that both training score and testing score improved when we add 'age_age' feature."
   ]
  },
  {
   "cell_type": "markdown",
   "metadata": {},
   "source": [
    "* When we add more and more features like crim_crim, age_crim, ... <br>\n",
    "the training will definitely improve but the main thing to check is the testing score. <br>\n",
    "The testing score needs to improve as well. <br>\n",
    "As data scientists, we should pay attention to this point"
   ]
  }
 ],
 "metadata": {
  "kernelspec": {
   "display_name": "Python 3",
   "language": "python",
   "name": "python3"
  },
  "language_info": {
   "codemirror_mode": {
    "name": "ipython",
    "version": 3
   },
   "file_extension": ".py",
   "mimetype": "text/x-python",
   "name": "python",
   "nbconvert_exporter": "python",
   "pygments_lexer": "ipython3",
   "version": "3.7.6"
  }
 },
 "nbformat": 4,
 "nbformat_minor": 4
}
